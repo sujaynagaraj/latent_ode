{
 "cells": [
  {
   "cell_type": "code",
   "execution_count": 1,
   "id": "powered-restoration",
   "metadata": {},
   "outputs": [],
   "source": [
    "%load_ext autoreload\n",
    "%autoreload 2"
   ]
  },
  {
   "cell_type": "code",
   "execution_count": 2,
   "id": "martial-america",
   "metadata": {},
   "outputs": [],
   "source": [
    "from torch.distributions import uniform\n",
    "import torch"
   ]
  },
  {
   "cell_type": "code",
   "execution_count": 3,
   "id": "million-shareware",
   "metadata": {},
   "outputs": [],
   "source": [
    "import sys\n",
    "sys.path.append(\"../\")"
   ]
  },
  {
   "cell_type": "code",
   "execution_count": 4,
   "id": "patent-omega",
   "metadata": {},
   "outputs": [],
   "source": [
    "from generate_timeseries import Periodic_1d"
   ]
  },
  {
   "cell_type": "code",
   "execution_count": 5,
   "id": "fixed-portland",
   "metadata": {},
   "outputs": [],
   "source": [
    "max_t_extrap = 5.0\n",
    "n_total_tp = 100\n",
    "\n",
    "distribution = uniform.Uniform(torch.Tensor([0.0]),torch.Tensor([max_t_extrap]))\n",
    "time_steps_extrap =  distribution.sample(torch.Size([n_total_tp-1]))[:,0]\n",
    "time_steps_extrap = torch.cat((torch.Tensor([0.0]), time_steps_extrap))\n",
    "time_steps_extrap = torch.sort(time_steps_extrap)[0]\n",
    "\n",
    "dataset_obj = None\n",
    "##################################################################\n",
    "# Sample a periodic function\n",
    "dataset_obj = Periodic_1d(\n",
    "    init_freq = None, init_amplitude = 1.,\n",
    "    final_amplitude = 1., final_freq = None, \n",
    "    z0 = 1.)"
   ]
  },
  {
   "cell_type": "code",
   "execution_count": 20,
   "id": "better-asthma",
   "metadata": {},
   "outputs": [],
   "source": [
    "n = 3\n",
    "noise_weight = 0.5\n",
    "dataset = dataset_obj.sample_traj(time_steps_extrap, n_samples = n, \n",
    "    noise_weight = noise_weight)"
   ]
  },
  {
   "cell_type": "code",
   "execution_count": 21,
   "id": "governing-potter",
   "metadata": {},
   "outputs": [
    {
     "data": {
      "text/plain": [
       "torch.Size([3, 100, 1])"
      ]
     },
     "execution_count": 21,
     "metadata": {},
     "output_type": "execute_result"
    }
   ],
   "source": [
    "dataset.shape"
   ]
  },
  {
   "cell_type": "code",
   "execution_count": 22,
   "id": "buried-thickness",
   "metadata": {},
   "outputs": [
    {
     "data": {
      "text/plain": [
       "torch.Size([100])"
      ]
     },
     "execution_count": 22,
     "metadata": {},
     "output_type": "execute_result"
    }
   ],
   "source": [
    "time_steps_extrap.shape"
   ]
  },
  {
   "cell_type": "code",
   "execution_count": 23,
   "id": "established-appraisal",
   "metadata": {},
   "outputs": [
    {
     "data": {
      "text/plain": [
       "<matplotlib.legend.Legend at 0x7fa3126a4280>"
      ]
     },
     "execution_count": 23,
     "metadata": {},
     "output_type": "execute_result"
    },
    {
     "data": {
      "image/png": "[encoded data removed]",
      "text/plain": [
       "<Figure size 432x288 with 1 Axes>"
      ]
     },
     "metadata": {
      "needs_background": "light"
     },
     "output_type": "display_data"
    }
   ],
   "source": [
    "%matplotlib inline\n",
    "import matplotlib.pyplot as plt\n",
    "\n",
    "fig = plt.figure()\n",
    "\n",
    "\n",
    "for i, series in enumerate(dataset):\n",
    "    plt.scatter(time_steps_extrap, series[:, 0], label=f\"series {i}\" )\n",
    "\n",
    "plt.legend()"
   ]
  },
  {
   "cell_type": "code",
   "execution_count": null,
   "id": "robust-murder",
   "metadata": {},
   "outputs": [],
   "source": []
  }
 ],
 "metadata": {
  "kernelspec": {
   "display_name": "Python 3 - Latent-Ode",
   "language": "python",
   "name": "latent-ode"
  },
  "language_info": {
   "codemirror_mode": {
    "name": "ipython",
    "version": 3
   },
   "file_extension": ".py",
   "mimetype": "text/x-python",
   "name": "python",
   "nbconvert_exporter": "python",
   "pygments_lexer": "ipython3",
   "version": "3.8.8"
  }
 },
 "nbformat": 4,
 "nbformat_minor": 5
}
