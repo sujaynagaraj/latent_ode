{
 "cells": [
  {
   "cell_type": "code",
   "execution_count": 1,
   "id": "muslim-division",
   "metadata": {},
   "outputs": [
    {
     "ename": "ModuleNotFoundError",
     "evalue": "No module named 'torch'",
     "output_type": "error",
     "traceback": [
      "\u001b[0;31m---------------------------------------------------------------------------\u001b[0m",
      "\u001b[0;31mModuleNotFoundError\u001b[0m                       Traceback (most recent call last)",
      "\u001b[0;32m<ipython-input-1-36f336ecec3a>\u001b[0m in \u001b[0;36m<module>\u001b[0;34m\u001b[0m\n\u001b[0;32m----> 1\u001b[0;31m \u001b[0;32mfrom\u001b[0m \u001b[0mtorch\u001b[0m\u001b[0;34m.\u001b[0m\u001b[0mdistributions\u001b[0m \u001b[0;32mimport\u001b[0m \u001b[0muniform\u001b[0m\u001b[0;34m\u001b[0m\u001b[0;34m\u001b[0m\u001b[0m\n\u001b[0m",
      "\u001b[0;31mModuleNotFoundError\u001b[0m: No module named 'torch'"
     ]
    }
   ],
   "source": [
    "from torch.distributions import uniform"
   ]
  },
  {
   "cell_type": "code",
   "execution_count": 2,
   "id": "overall-detection",
   "metadata": {},
   "outputs": [
    {
     "name": "stdout",
     "output_type": "stream",
     "text": [
      "remote: Enumerating objects: 13, done.\u001b[K\n",
      "remote: Counting objects: 100% (13/13), done.\u001b[K\n",
      "remote: Compressing objects: 100% (6/6), done.\u001b[K\n",
      "remote: Total 11 (delta 6), reused 10 (delta 5), pack-reused 0\u001b[K\n",
      "Unpacking objects: 100% (11/11), done.\n",
      "From github.com:sujaynagaraj/latent_ode\n",
      " * branch            master     -> FETCH_HEAD\n",
      "   3fa0c3e..089d659  master     -> origin/master\n",
      "Updating 3fa0c3e..089d659\n",
      "Fast-forward\n",
      " notebooks/Generate Synthetic Data.ipynb | 440 \u001b[32m+++++++++++++++++++++++++++++++\u001b[m\n",
      " notebooks/generate_synthetic_data.ipynb | 442 \u001b[32m++++++++++++++++++++++++++++++++\u001b[m\n",
      " 2 files changed, 882 insertions(+)\n",
      " create mode 100644 notebooks/Generate Synthetic Data.ipynb\n",
      " create mode 100644 notebooks/generate_synthetic_data.ipynb\n"
     ]
    }
   ],
   "source": [
    "!git pull origin master"
   ]
  },
  {
   "cell_type": "code",
   "execution_count": null,
   "id": "rental-column",
   "metadata": {},
   "outputs": [],
   "source": []
  }
 ],
 "metadata": {
  "kernelspec": {
   "display_name": "Python 3",
   "language": "python",
   "name": "python3"
  },
  "language_info": {
   "codemirror_mode": {
    "name": "ipython",
    "version": 3
   },
   "file_extension": ".py",
   "mimetype": "text/x-python",
   "name": "python",
   "nbconvert_exporter": "python",
   "pygments_lexer": "ipython3",
   "version": "3.7.10"
  }
 },
 "nbformat": 4,
 "nbformat_minor": 5
}
